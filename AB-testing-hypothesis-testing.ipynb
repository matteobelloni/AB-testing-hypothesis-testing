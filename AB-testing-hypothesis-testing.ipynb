{
 "cells": [
  {
   "cell_type": "markdown",
   "metadata": {},
   "source": [
    "## A/B Testing simulation with Hypothesis Testing"
   ]
  },
  {
   "cell_type": "markdown",
   "metadata": {},
   "source": [
    "- Introduction on tests: test on the mean, two sample t test\n",
    "- A/B Testing simulation"
   ]
  },
  {
   "cell_type": "markdown",
   "metadata": {},
   "source": [
    "### Test on the mean"
   ]
  },
  {
   "cell_type": "code",
   "execution_count": 1,
   "metadata": {},
   "outputs": [],
   "source": [
    "import numpy as np\n",
    "import pandas as pd\n",
    "import scipy.stats as stats"
   ]
  },
  {
   "cell_type": "code",
   "execution_count": 4,
   "metadata": {},
   "outputs": [],
   "source": [
    "np.random.seed(6)\n",
    "pop_ages_1 = stats.poisson.rvs(loc = 18, mu = 35, size =150000)\n",
    "pop_ages_2 = stats.poisson.rvs(loc = 18, mu = 10, size =100000)\n",
    "pop_ages = np.concatenate((pop_ages_1, pop_ages_2))\n",
    "\n",
    "sample_ages_1 = stats.poisson.rvs(loc = 18, mu = 30, size =30)\n",
    "sample_ages_2 = stats.poisson.rvs(loc = 18, mu = 10, size =20)\n",
    "sample_ages = np.concatenate((sample_ages_1, sample_ages_2))"
   ]
  },
  {
   "cell_type": "code",
   "execution_count": 7,
   "metadata": {},
   "outputs": [
    {
     "name": "stdout",
     "output_type": "stream",
     "text": [
      "43.000112 39.26\n"
     ]
    }
   ],
   "source": [
    "print(pop_ages.mean(), sample_ages.mean()) #different, but does that mean that we can say the same for the original population?"
   ]
  },
  {
   "cell_type": "code",
   "execution_count": 8,
   "metadata": {},
   "outputs": [
    {
     "data": {
      "text/plain": [
       "Ttest_1sampResult(statistic=-2.5742714883655027, pvalue=0.013118685425061678)"
      ]
     },
     "execution_count": 8,
     "metadata": {},
     "output_type": "execute_result"
    }
   ],
   "source": [
    "stats.ttest_1samp(a = sample_ages, popmean = pop_ages.mean()) #pvalue < 0.05 -> we reject Ho and hence the two are different!"
   ]
  },
  {
   "cell_type": "code",
   "execution_count": 11,
   "metadata": {},
   "outputs": [
    {
     "name": "stdout",
     "output_type": "stream",
     "text": [
      "-2.6004068943406193\n"
     ]
    }
   ],
   "source": [
    "#we can also check the value of t-statistic by calculating it manually and comparing it to the alpha = 0.05:\n",
    "t_stat = (sample_ages.mean() - pop_ages.mean()) / (sample_ages.std()/np.sqrt(len(sample_ages)))\n",
    "print(t_stat)"
   ]
  },
  {
   "cell_type": "code",
   "execution_count": 15,
   "metadata": {},
   "outputs": [
    {
     "name": "stdout",
     "output_type": "stream",
     "text": [
      "-2.0095752344892093\n"
     ]
    }
   ],
   "source": [
    "t_alpha = stats.t.ppf(q = 0.025, df = 50 - 1) #alpha / 2 because two tails test\n",
    "print(t_alpha)"
   ]
  },
  {
   "cell_type": "code",
   "execution_count": 19,
   "metadata": {},
   "outputs": [
    {
     "data": {
      "text/plain": [
       "(36.369669080722176, 42.15033091927782)"
      ]
     },
     "execution_count": 19,
     "metadata": {},
     "output_type": "execute_result"
    }
   ],
   "source": [
    "#finally the confidence interval with 95% confidence level\n",
    "stats.t.interval(0.95, df = 49, loc = sample_ages.mean(), scale = (sample_ages.std()/np.sqrt(len(sample_ages))))\n",
    "#you see that true pop mean is outside this interval"
   ]
  },
  {
   "cell_type": "markdown",
   "metadata": {},
   "source": [
    "### Two sample t test"
   ]
  },
  {
   "cell_type": "code",
   "execution_count": 29,
   "metadata": {},
   "outputs": [],
   "source": [
    "np.random.seed(6)\n",
    "sample_ages_3 = stats.poisson.rvs(loc = 18, mu = 33, size =30)\n",
    "sample_ages_4 = stats.poisson.rvs(loc = 18, mu = 13, size =20)\n",
    "sample_ages_b = np.concatenate((sample_ages_3, sample_ages_4))"
   ]
  },
  {
   "cell_type": "code",
   "execution_count": 30,
   "metadata": {},
   "outputs": [
    {
     "name": "stdout",
     "output_type": "stream",
     "text": [
      "39.26 43.34\n"
     ]
    }
   ],
   "source": [
    "print(sample_ages.mean(),sample_ages_b.mean())"
   ]
  },
  {
   "cell_type": "code",
   "execution_count": 32,
   "metadata": {},
   "outputs": [
    {
     "data": {
      "text/plain": [
       "Ttest_indResult(statistic=-1.8900367465301249, pvalue=0.061734324011242535)"
      ]
     },
     "execution_count": 32,
     "metadata": {},
     "output_type": "execute_result"
    }
   ],
   "source": [
    "\"\"\"\n",
    "we run indepented t test because from two different samples. you would run paired t test if from same sample just different\n",
    "point in time (ttest_rel)\n",
    "\"\"\"\n",
    "stats.ttest_ind(a = sample_ages, b = sample_ages_b, equal_var = False) #pvalue > 0.05 not enough to reject Ho. so they are same"
   ]
  },
  {
   "cell_type": "markdown",
   "metadata": {},
   "source": [
    "### A/B Testing Simulation"
   ]
  },
  {
   "cell_type": "code",
   "execution_count": 33,
   "metadata": {},
   "outputs": [],
   "source": [
    "import scipy.stats as scs\n",
    "import pandas as pd\n",
    "# import numpy as np\n",
    "\n",
    "\n",
    "def generate_data(N_A, N_B, p_A, p_B, days=None, control_label='A',\n",
    "                  test_label='B'):\n",
    "    \"\"\"Returns a pandas dataframe with fake CTR data\n",
    "    Example:\n",
    "    Parameters:\n",
    "        N_A (int): sample size for control group\n",
    "        N_B (int): sample size for test group\n",
    "            Note: final sample size may not match N_A provided because the\n",
    "            group at each row is chosen at random (50/50).\n",
    "        p_A (float): conversion rate; conversion rate of control group\n",
    "        p_B (float): conversion rate; conversion rate of test group\n",
    "        days (int): optional; if provided, a column for 'ts' will be included\n",
    "            to divide the data in chunks of time\n",
    "            Note: overflow data will be included in an extra day\n",
    "        control_label (str)\n",
    "        test_label (str)\n",
    "    Returns:\n",
    "        df (df)\n",
    "    \"\"\"\n",
    "\n",
    "    # initiate empty container\n",
    "    data = []\n",
    "\n",
    "    # total amount of rows in the data\n",
    "    N = N_A + N_B\n",
    "\n",
    "    # distribute events based on proportion of group size\n",
    "    group_bern = scs.bernoulli(N_A / (N_A + N_B))\n",
    "\n",
    "    # initiate bernoulli distributions from which to randomly sample\n",
    "    A_bern = scs.bernoulli(p_A)\n",
    "    B_bern = scs.bernoulli(p_B)\n",
    "\n",
    "    for idx in range(N):\n",
    "        # initite empty row\n",
    "        row = {}\n",
    "        # for 'ts' column\n",
    "        if days is not None:\n",
    "            if type(days) == int:\n",
    "                row['ts'] = idx // (N // days)\n",
    "            else:\n",
    "                raise ValueError(\"Provide an integer for the days parameter.\")\n",
    "        # assign group based on 50/50 probability\n",
    "        row['group'] = group_bern.rvs()\n",
    "\n",
    "        if row['group'] == 0:\n",
    "            # assign conversion based on provided parameters\n",
    "            row['converted'] = A_bern.rvs()\n",
    "        else:\n",
    "            row['converted'] = B_bern.rvs()\n",
    "        # collect row into data container\n",
    "        data.append(row)\n",
    "\n",
    "    # convert data into pandas dataframe\n",
    "    df = pd.DataFrame(data)\n",
    "\n",
    "    # transform group labels of 0s and 1s to user-defined group labels\n",
    "    df['group'] = df['group'].apply(\n",
    "        lambda x: control_label if x == 0 else test_label)\n",
    "\n",
    "    return df"
   ]
  },
  {
   "cell_type": "code",
   "execution_count": 44,
   "metadata": {},
   "outputs": [],
   "source": [
    "N_A = 1000 #control\n",
    "N_B = 1000 #test\n",
    "bcr = 0.10  # baseline conversion rate\n",
    "d_hat = 0.02  # difference between the groups\n",
    "\n",
    "AB_data = generate_data(N_A, N_B, bcr, bcr+d_hat)"
   ]
  },
  {
   "cell_type": "code",
   "execution_count": 45,
   "metadata": {},
   "outputs": [
    {
     "data": {
      "text/html": [
       "<div>\n",
       "<style scoped>\n",
       "    .dataframe tbody tr th:only-of-type {\n",
       "        vertical-align: middle;\n",
       "    }\n",
       "\n",
       "    .dataframe tbody tr th {\n",
       "        vertical-align: top;\n",
       "    }\n",
       "\n",
       "    .dataframe thead th {\n",
       "        text-align: right;\n",
       "    }\n",
       "</style>\n",
       "<table border=\"1\" class=\"dataframe\">\n",
       "  <thead>\n",
       "    <tr style=\"text-align: right;\">\n",
       "      <th></th>\n",
       "      <th>group</th>\n",
       "      <th>converted</th>\n",
       "    </tr>\n",
       "  </thead>\n",
       "  <tbody>\n",
       "    <tr>\n",
       "      <th>0</th>\n",
       "      <td>B</td>\n",
       "      <td>0</td>\n",
       "    </tr>\n",
       "    <tr>\n",
       "      <th>1</th>\n",
       "      <td>B</td>\n",
       "      <td>0</td>\n",
       "    </tr>\n",
       "    <tr>\n",
       "      <th>2</th>\n",
       "      <td>B</td>\n",
       "      <td>0</td>\n",
       "    </tr>\n",
       "    <tr>\n",
       "      <th>3</th>\n",
       "      <td>B</td>\n",
       "      <td>0</td>\n",
       "    </tr>\n",
       "    <tr>\n",
       "      <th>4</th>\n",
       "      <td>A</td>\n",
       "      <td>0</td>\n",
       "    </tr>\n",
       "  </tbody>\n",
       "</table>\n",
       "</div>"
      ],
      "text/plain": [
       "  group  converted\n",
       "0     B          0\n",
       "1     B          0\n",
       "2     B          0\n",
       "3     B          0\n",
       "4     A          0"
      ]
     },
     "execution_count": 45,
     "metadata": {},
     "output_type": "execute_result"
    }
   ],
   "source": [
    "AB_data.head()"
   ]
  },
  {
   "cell_type": "markdown",
   "metadata": {},
   "source": [
    "#### Difference in conversion rates"
   ]
  },
  {
   "cell_type": "code",
   "execution_count": 58,
   "metadata": {},
   "outputs": [
    {
     "data": {
      "text/plain": [
       "group\n",
       "A    0.084746\n",
       "B    0.131394\n",
       "dtype: float64"
      ]
     },
     "execution_count": 58,
     "metadata": {},
     "output_type": "execute_result"
    }
   ],
   "source": [
    "AB_data.groupby('group').apply(lambda x: x['converted'].sum()/len(x))\n",
    "# 0.131394 - 0.084746 = 0.0466 different from 0!"
   ]
  },
  {
   "cell_type": "code",
   "execution_count": 78,
   "metadata": {},
   "outputs": [
    {
     "data": {
      "text/plain": [
       "(1003, 997, 0.0847457627118644, 0.13139418254764293, -0.046648419835778526)"
      ]
     },
     "execution_count": 78,
     "metadata": {},
     "output_type": "execute_result"
    }
   ],
   "source": [
    "n1 = AB_data[AB_data.group == 'A'].converted.count()\n",
    "x1 = AB_data[AB_data.group == 'A'].converted.sum()\n",
    "p1 = x1/n1\n",
    "n2 = AB_data[AB_data.group == 'B'].converted.count()\n",
    "x2 = AB_data[AB_data.group == 'B'].converted.sum()\n",
    "p2 = x2/n2\n",
    "d_hat = p1-p2\n",
    "n1, n2, p1, p2, d_hat"
   ]
  },
  {
   "cell_type": "code",
   "execution_count": 67,
   "metadata": {},
   "outputs": [
    {
     "data": {
      "text/plain": [
       "(0.108, 0.013880696454558993)"
      ]
     },
     "execution_count": 67,
     "metadata": {},
     "output_type": "execute_result"
    }
   ],
   "source": [
    "p = (p1*n1 + p2*n2) / (n1+n2) #pooled probability for H0\n",
    "SE = np.sqrt((p*(1-p)/n1)+(p*(1-p)/n2)) #std dev for H0\n",
    "p, SE"
   ]
  },
  {
   "cell_type": "code",
   "execution_count": 89,
   "metadata": {},
   "outputs": [
    {
     "data": {
      "text/plain": [
       "(-3.3606685362287614, -1.959963984540054)"
      ]
     },
     "execution_count": 89,
     "metadata": {},
     "output_type": "execute_result"
    }
   ],
   "source": [
    "t_stat = d_hat/ SE #t statistic\n",
    "critical_val = stats.norm.ppf(1-.975)\n",
    "t_stat, critical_val #t_stat is in the rejection area so we are rejecting H0"
   ]
  },
  {
   "cell_type": "code",
   "execution_count": 98,
   "metadata": {},
   "outputs": [
    {
     "data": {
      "text/plain": [
       "([-0.07380914283806586, -0.0194876968334912], -3.3606685362287614)"
      ]
     },
     "execution_count": 98,
     "metadata": {},
     "output_type": "execute_result"
    }
   ],
   "source": [
    "SE12 = np.sqrt((p1*(1-p1)/n1)+(p2*(1-p2)/n2))\n",
    "dof = n1+n2-2\n",
    "[d_hat - SE12 * stats.t.ppf(.975, dof), d_hat + SE12 * stats.t.ppf(.975, dof)], t_stat #far from confidence interval"
   ]
  },
  {
   "cell_type": "code",
   "execution_count": 107,
   "metadata": {},
   "outputs": [
    {
     "data": {
      "text/plain": [
       "0.0007921761170588799"
      ]
     },
     "execution_count": 107,
     "metadata": {},
     "output_type": "execute_result"
    }
   ],
   "source": [
    "pval = stats.t.cdf(t_stat, dof) * 2\n",
    "pval #<0.05 so reject H0. there is statistical evidence against H0"
   ]
  },
  {
   "cell_type": "code",
   "execution_count": 76,
   "metadata": {},
   "outputs": [
    {
     "data": {
      "text/plain": [
       "(-3.3606685362287614, 0.0007775407646234423, -1.959963984540054)"
      ]
     },
     "execution_count": 76,
     "metadata": {},
     "output_type": "execute_result"
    }
   ],
   "source": [
    "#more automated:\n",
    "from statsmodels.stats.proportion import proportions_ztest\n",
    "c_ = np.array([c1, c2])\n",
    "n_ = np.array([n1, n2])\n",
    "stat, pval = proportions_ztest(c_, n_)\n",
    "stat, pval, critical_val #again t_stat falls in the rejecting region. Also, pval<0.05 so reject H0, the two pop are different"
   ]
  },
  {
   "cell_type": "code",
   "execution_count": null,
   "metadata": {},
   "outputs": [],
   "source": []
  },
  {
   "cell_type": "code",
   "execution_count": null,
   "metadata": {},
   "outputs": [],
   "source": []
  }
 ],
 "metadata": {
  "kernelspec": {
   "display_name": "Python 3",
   "language": "python",
   "name": "python3"
  },
  "language_info": {
   "codemirror_mode": {
    "name": "ipython",
    "version": 3
   },
   "file_extension": ".py",
   "mimetype": "text/x-python",
   "name": "python",
   "nbconvert_exporter": "python",
   "pygments_lexer": "ipython3",
   "version": "3.7.0"
  },
  "toc": {
   "base_numbering": 1,
   "nav_menu": {},
   "number_sections": true,
   "sideBar": true,
   "skip_h1_title": false,
   "title_cell": "Table of Contents",
   "title_sidebar": "Contents",
   "toc_cell": false,
   "toc_position": {},
   "toc_section_display": true,
   "toc_window_display": false
  }
 },
 "nbformat": 4,
 "nbformat_minor": 2
}
